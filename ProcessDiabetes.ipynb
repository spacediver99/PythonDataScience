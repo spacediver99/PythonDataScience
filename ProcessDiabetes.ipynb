{
 "cells": [
  {
   "cell_type": "code",
   "execution_count": 618,
   "metadata": {},
   "outputs": [],
   "source": [
    "# This code demonstrates processing of a dataset that contains several biomarkers for patients over multiple checkups.\n",
    "# The dataset is labeled according to whether each patient ended up developing diabetes (diabetes column).\n",
    "# No patient data is shown here, nor is any of the modeling.\n",
    "import matplotlib.pyplot as plt\n",
    "import numpy as np\n",
    "import pandas as pd\n",
    "import seaborn as sb"
   ]
  },
  {
   "cell_type": "code",
   "execution_count": 619,
   "metadata": {},
   "outputs": [],
   "source": [
    "# Load data into a pandas dataframe.\n",
    "db = pd.read_csv(\"Diabetes10K.csv\")"
   ]
  },
  {
   "cell_type": "code",
   "execution_count": 620,
   "metadata": {},
   "outputs": [],
   "source": [
    "# Look for and remove duplicates.\n",
    "db.duplicated().sum()\n",
    "db.drop_duplicates(inplace=True)"
   ]
  },
  {
   "cell_type": "code",
   "execution_count": 621,
   "metadata": {
    "scrolled": true
   },
   "outputs": [
    {
     "data": {
      "text/plain": [
       "[('Age_at_Exam', 0),\n",
       " ('sBP', 1),\n",
       " ('sBP_Date', 2),\n",
       " ('BMI', 3),\n",
       " ('BMI_Date', 4),\n",
       " ('LDL', 5),\n",
       " ('LDL_Date', 6),\n",
       " ('HDL', 7),\n",
       " ('HDL_Date', 8),\n",
       " ('A1c', 9),\n",
       " ('A1c_Date', 10),\n",
       " ('TG', 11),\n",
       " ('TG_Date', 12),\n",
       " ('FBS', 13),\n",
       " ('FBS_Date', 14),\n",
       " ('FBS>DM', 15),\n",
       " ('Total_Cholesterol', 16),\n",
       " ('Total_Cholesterol_Lab_Date', 17),\n",
       " ('Diabetes', 18),\n",
       " ('DM_OnsetDate', 19),\n",
       " ('Depression', 20),\n",
       " ('Depression_OnsetDate', 21),\n",
       " ('HTN', 22),\n",
       " ('HTN_OnsetDate', 23),\n",
       " ('OA', 24),\n",
       " ('OA_OnsetDate', 25),\n",
       " ('COPD', 26),\n",
       " ('COPD_Date', 27),\n",
       " ('Hypertension_Medications', 28),\n",
       " ('Hypertension_Medications_First_Instance', 29),\n",
       " ('Corticosteroids', 30),\n",
       " ('Corticosteroids_first_instance', 31),\n",
       " ('Sex', 32),\n",
       " ('leastO(A1c_Date)', 33),\n",
       " ('leastO(DM_OnsetDate)', 34),\n",
       " ('leastO(FBS_Date)', 35),\n",
       " ('LeastOfAll', 36),\n",
       " ('A1C_BEF_DM', 37),\n",
       " ('FBS_BEF_DM', 38),\n",
       " ('Patient_ID', 39),\n",
       " ('DM_Onset_Revised', 40),\n",
       " ('DM_Onset_Revised_1YrPrior', 41),\n",
       " ('DIABETES', 42)]"
      ]
     },
     "execution_count": 621,
     "metadata": {},
     "output_type": "execute_result"
    }
   ],
   "source": [
    "# List the variable names\n",
    "colNum = list(range(len(db.columns)))\n",
    "list(zip(db.columns, colNum))\n"
   ]
  },
  {
   "cell_type": "code",
   "execution_count": 622,
   "metadata": {},
   "outputs": [],
   "source": [
    "# Remove unwanted variables (we're removing total cholesterol, since that turned out to be highly correlated with LDL in this dataset, and has more missing data than LDL)\n",
    "db.drop(db.columns[[16,17,33,34,35,36, 42]], axis=1, inplace=True)\n",
    "db.shape\n",
    "# Cast the binary variables as integers.\n",
    "db['Diabetes'] = db['Diabetes'].astype(int)\n",
    "db['Depression'] = db['Depression'].astype(int)\n",
    "db['HTN'] = db['HTN'].astype(int)\n",
    "db['OA'] = db['OA'].astype(int)\n",
    "db['COPD'] = db['COPD'].astype(int)"
   ]
  },
  {
   "cell_type": "code",
   "execution_count": 623,
   "metadata": {},
   "outputs": [
    {
     "data": {
      "text/plain": [
       "[('Age_at_Exam', 0),\n",
       " ('sBP', 1),\n",
       " ('sBP_Date', 2),\n",
       " ('BMI', 3),\n",
       " ('BMI_Date', 4),\n",
       " ('LDL', 5),\n",
       " ('LDL_Date', 6),\n",
       " ('HDL', 7),\n",
       " ('HDL_Date', 8),\n",
       " ('A1c', 9),\n",
       " ('A1c_Date', 10),\n",
       " ('TG', 11),\n",
       " ('TG_Date', 12),\n",
       " ('FBS', 13),\n",
       " ('FBS_Date', 14),\n",
       " ('FBS>DM', 15),\n",
       " ('Diabetes', 16),\n",
       " ('DM_OnsetDate', 17),\n",
       " ('Depression', 18),\n",
       " ('Depression_OnsetDate', 19),\n",
       " ('HTN', 20),\n",
       " ('HTN_OnsetDate', 21),\n",
       " ('OA', 22),\n",
       " ('OA_OnsetDate', 23),\n",
       " ('COPD', 24),\n",
       " ('COPD_Date', 25),\n",
       " ('Hypertension_Medications', 26),\n",
       " ('Hypertension_Medications_First_Instance', 27),\n",
       " ('Corticosteroids', 28),\n",
       " ('Corticosteroids_first_instance', 29),\n",
       " ('Sex', 30),\n",
       " ('A1C_BEF_DM', 31),\n",
       " ('FBS_BEF_DM', 32),\n",
       " ('Patient_ID', 33),\n",
       " ('DM_Onset_Revised', 34),\n",
       " ('DM_Onset_Revised_1YrPrior', 35)]"
      ]
     },
     "execution_count": 623,
     "metadata": {},
     "output_type": "execute_result"
    }
   ],
   "source": [
    "# Display the remaining variables\n",
    "colNum = list(range(len(db.columns)))\n",
    "list(zip(db.columns, colNum))"
   ]
  },
  {
   "cell_type": "code",
   "execution_count": 624,
   "metadata": {},
   "outputs": [
    {
     "data": {
      "text/plain": [
       "Age_at_Exam                                   0\n",
       "sBP                                           4\n",
       "sBP_Date                                      0\n",
       "BMI                                           0\n",
       "BMI_Date                                      0\n",
       "LDL                                          61\n",
       "LDL_Date                                      0\n",
       "HDL                                          72\n",
       "HDL_Date                                     64\n",
       "A1c                                           0\n",
       "A1c_Date                                      0\n",
       "TG                                           53\n",
       "TG_Date                                      42\n",
       "FBS                                           0\n",
       "FBS_Date                                      0\n",
       "FBS>DM                                        0\n",
       "Diabetes                                      0\n",
       "DM_OnsetDate                               4857\n",
       "Depression                                    0\n",
       "Depression_OnsetDate                       7869\n",
       "HTN                                           0\n",
       "HTN_OnsetDate                              3586\n",
       "OA                                            0\n",
       "OA_OnsetDate                               6853\n",
       "COPD                                          0\n",
       "COPD_Date                                  8998\n",
       "Hypertension_Medications                   2952\n",
       "Hypertension_Medications_First_Instance    2953\n",
       "Corticosteroids                            7131\n",
       "Corticosteroids_first_instance             7131\n",
       "Sex                                           0\n",
       "A1C_BEF_DM                                 4857\n",
       "FBS_BEF_DM                                 4857\n",
       "Patient_ID                                    0\n",
       "DM_Onset_Revised                           4857\n",
       "DM_Onset_Revised_1YrPrior                  4857\n",
       "dtype: int64"
      ]
     },
     "execution_count": 624,
     "metadata": {},
     "output_type": "execute_result"
    }
   ],
   "source": [
    "# Summarize missing data.\n",
    "db.isna().sum()"
   ]
  },
  {
   "cell_type": "code",
   "execution_count": 625,
   "metadata": {},
   "outputs": [
    {
     "data": {
      "text/plain": [
       "(9812, 36)"
      ]
     },
     "execution_count": 625,
     "metadata": {},
     "output_type": "execute_result"
    }
   ],
   "source": [
    "# We'll only drop data that has missing values in blood pressure, cholesterol, and triglycerides\n",
    "db.dropna(subset=['sBP', 'LDL', 'HDL', 'HDL_Date', 'TG', 'TG_Date'], inplace=True)\n",
    "db.shape"
   ]
  },
  {
   "cell_type": "code",
   "execution_count": 626,
   "metadata": {},
   "outputs": [
    {
     "data": {
      "text/html": [
       "<div>\n",
       "<style scoped>\n",
       "    .dataframe tbody tr th:only-of-type {\n",
       "        vertical-align: middle;\n",
       "    }\n",
       "\n",
       "    .dataframe tbody tr th {\n",
       "        vertical-align: top;\n",
       "    }\n",
       "\n",
       "    .dataframe thead th {\n",
       "        text-align: right;\n",
       "    }\n",
       "</style>\n",
       "<table border=\"1\" class=\"dataframe\">\n",
       "  <thead>\n",
       "    <tr style=\"text-align: right;\">\n",
       "      <th></th>\n",
       "      <th>sBP</th>\n",
       "      <th>LDL</th>\n",
       "      <th>HDL</th>\n",
       "      <th>A1c</th>\n",
       "      <th>TG</th>\n",
       "      <th>FBS</th>\n",
       "    </tr>\n",
       "  </thead>\n",
       "  <tbody>\n",
       "    <tr>\n",
       "      <th>sBP</th>\n",
       "      <td>1.000000</td>\n",
       "      <td>0.023931</td>\n",
       "      <td>-0.012852</td>\n",
       "      <td>0.077959</td>\n",
       "      <td>0.074787</td>\n",
       "      <td>0.096516</td>\n",
       "    </tr>\n",
       "    <tr>\n",
       "      <th>LDL</th>\n",
       "      <td>0.023931</td>\n",
       "      <td>1.000000</td>\n",
       "      <td>0.169547</td>\n",
       "      <td>-0.202166</td>\n",
       "      <td>0.034696</td>\n",
       "      <td>-0.177822</td>\n",
       "    </tr>\n",
       "    <tr>\n",
       "      <th>HDL</th>\n",
       "      <td>-0.012852</td>\n",
       "      <td>0.169547</td>\n",
       "      <td>1.000000</td>\n",
       "      <td>-0.240641</td>\n",
       "      <td>-0.346297</td>\n",
       "      <td>-0.252894</td>\n",
       "    </tr>\n",
       "    <tr>\n",
       "      <th>A1c</th>\n",
       "      <td>0.077959</td>\n",
       "      <td>-0.202166</td>\n",
       "      <td>-0.240641</td>\n",
       "      <td>1.000000</td>\n",
       "      <td>0.205038</td>\n",
       "      <td>0.770089</td>\n",
       "    </tr>\n",
       "    <tr>\n",
       "      <th>TG</th>\n",
       "      <td>0.074787</td>\n",
       "      <td>0.034696</td>\n",
       "      <td>-0.346297</td>\n",
       "      <td>0.205038</td>\n",
       "      <td>1.000000</td>\n",
       "      <td>0.256349</td>\n",
       "    </tr>\n",
       "    <tr>\n",
       "      <th>FBS</th>\n",
       "      <td>0.096516</td>\n",
       "      <td>-0.177822</td>\n",
       "      <td>-0.252894</td>\n",
       "      <td>0.770089</td>\n",
       "      <td>0.256349</td>\n",
       "      <td>1.000000</td>\n",
       "    </tr>\n",
       "  </tbody>\n",
       "</table>\n",
       "</div>"
      ],
      "text/plain": [
       "          sBP       LDL       HDL       A1c        TG       FBS\n",
       "sBP  1.000000  0.023931 -0.012852  0.077959  0.074787  0.096516\n",
       "LDL  0.023931  1.000000  0.169547 -0.202166  0.034696 -0.177822\n",
       "HDL -0.012852  0.169547  1.000000 -0.240641 -0.346297 -0.252894\n",
       "A1c  0.077959 -0.202166 -0.240641  1.000000  0.205038  0.770089\n",
       "TG   0.074787  0.034696 -0.346297  0.205038  1.000000  0.256349\n",
       "FBS  0.096516 -0.177822 -0.252894  0.770089  0.256349  1.000000"
      ]
     },
     "execution_count": 626,
     "metadata": {},
     "output_type": "execute_result"
    }
   ],
   "source": [
    "# Let's examine the correlations between some of the variables.\n",
    "db[['sBP', 'LDL', 'HDL', 'A1c', 'TG', 'FBS']].corr()\n",
    "# With the exception of fasting blood sugar and glycated hemoglobin, these look highly independent."
   ]
  },
  {
   "cell_type": "code",
   "execution_count": 627,
   "metadata": {},
   "outputs": [
    {
     "data": {
      "image/png": "[encoded data removed]",
      "text/plain": [
       "<Figure size 630x630 with 1 Axes>"
      ]
     },
     "metadata": {
      "needs_background": "light"
     },
     "output_type": "display_data"
    }
   ],
   "source": [
    "# Let's see how many measurements we have for each patient.\n",
    "numMeasurements = db.groupby('Patient_ID')['sBP'].count()\n",
    "fig, ax = plt.subplots(1, 1, figsize = (7, 7), dpi=90)\n",
    "sb.distplot(numMeasurements, kde = False)\n",
    "ax.set_ylabel('Number of patients');    \n",
    "ax.set_xlabel('Number of visits');\n",
    "# Clearly, there isn't much longitudinal data (the vast majority of patients have under 3 records).\n",
    "# So, instead of worrying about temporal features, we will just average the data for each patient.\n",
    "# This also means we can ignore date data for this particular analysis."
   ]
  },
  {
   "cell_type": "code",
   "execution_count": 628,
   "metadata": {},
   "outputs": [],
   "source": [
    "# Code Sex as a binary variable\n",
    "db['Sex_Male'] = db.Sex.map({'Female':0, 'Male':1})\n",
    "db.drop(['Sex'], axis=1, inplace=True)"
   ]
  },
  {
   "cell_type": "code",
   "execution_count": 629,
   "metadata": {},
   "outputs": [],
   "source": [
    "# Replace missing values with \"No_MEDICATION\" for medications.\n",
    "db['Corticosteroids'].fillna('NO_MEDICATION', inplace=True)\n",
    "db['Hypertension_Medications'].fillna('NO_MEDICATION', inplace=True)"
   ]
  },
  {
   "cell_type": "code",
   "execution_count": 630,
   "metadata": {},
   "outputs": [
    {
     "data": {
      "text/plain": [
       "4709     HYDROCORTISONE AND ANTIINFECTIVES / HYDROCORT...\n",
       "9934                                        NO_MEDICATION\n",
       "1125                                        NO_MEDICATION\n",
       "9172                                        NO_MEDICATION\n",
       "8396                                        NO_MEDICATION\n",
       "1482                       HYDROCORTISONE AND ANTIBIOTICS\n",
       "3783                                        NO_MEDICATION\n",
       "3401                                        NO_MEDICATION\n",
       "4019                     DEXAMETHASONE AND ANTIINFECTIVES\n",
       "6144                                           PREDNISONE\n",
       "9338                                        NO_MEDICATION\n",
       "1653                                        NO_MEDICATION\n",
       "3141                                        NO_MEDICATION\n",
       "5601                                        NO_MEDICATION\n",
       "758                                         NO_MEDICATION\n",
       "9144                                        NO_MEDICATION\n",
       "2037                                        NO_MEDICATION\n",
       "9658     HYDROCORTISONE / HYDROCORTISONE AND ANTIINFEC...\n",
       "1312     DEXAMETHASONE AND ANTIINFECTIVES / HYDROCORTI...\n",
       "6551                                        NO_MEDICATION\n",
       "8772                                       HYDROCORTISONE\n",
       "7515                                        NO_MEDICATION\n",
       "883                                    METHYLPREDNISOLONE\n",
       "2578                                        NO_MEDICATION\n",
       "9879                                        NO_MEDICATION\n",
       "9876                                        NO_MEDICATION\n",
       "9149                                        NO_MEDICATION\n",
       "8210                                        NO_MEDICATION\n",
       "4443                                        NO_MEDICATION\n",
       "7063                                        NO_MEDICATION\n",
       "Name: Corticosteroids, dtype: object"
      ]
     },
     "execution_count": 630,
     "metadata": {},
     "output_type": "execute_result"
    }
   ],
   "source": [
    "# This is what the Corticosteroids column looks like. We need to encode this information in a more usable way.\n",
    "db['Corticosteroids'].sample(30)"
   ]
  },
  {
   "cell_type": "code",
   "execution_count": 631,
   "metadata": {},
   "outputs": [],
   "source": [
    "# Create a function that will take in a series or list object, and parse it for unique strings.\n",
    "# Strings are separated by a separator list, which is the second argument for the function.\n",
    "def ParseString(series, separators):\n",
    "    joined = ','.join(series)\n",
    "    for i in separators:\n",
    "        joined = joined.replace(i, ',')\n",
    "    joined = joined.split(',')\n",
    "    joined = [x.strip() for x in joined]\n",
    "    joined = set(joined)    \n",
    "    return joined"
   ]
  },
  {
   "cell_type": "code",
   "execution_count": 632,
   "metadata": {},
   "outputs": [
    {
     "data": {
      "text/plain": [
       "{'ANTIBIOTICS',\n",
       " 'ANTIINFECTIVES',\n",
       " 'COMBINATIONS',\n",
       " 'CORTISONE',\n",
       " 'DEXAMETHASONE',\n",
       " 'HYDROCORTISONE',\n",
       " 'METHYLPREDNISOLONE',\n",
       " 'NO_MEDICATION',\n",
       " 'PREDNISOLONE',\n",
       " 'PREDNISONE'}"
      ]
     },
     "execution_count": 632,
     "metadata": {},
     "output_type": "execute_result"
    }
   ],
   "source": [
    "# Use parsing function to extract unique corticosteroid medications.\n",
    "corticoMeds = ParseString(db['Corticosteroids'], ['/', ' AND '])\n",
    "# Show the list of unique corticosteroid meds.\n",
    "corticoMeds"
   ]
  },
  {
   "cell_type": "code",
   "execution_count": 633,
   "metadata": {},
   "outputs": [],
   "source": [
    "# Create new variables to encode medication data.\n",
    "# First, corticosteroids.\n",
    "for i in corticoMeds:\n",
    "    db['Cortico'+i] = 0\n",
    "db.reset_index(inplace=True, drop = True)\n",
    "# Now, populate these variables depending on which medications belong to each entry (see if this can be improved to linear time)\n",
    "for i in range(0, len(db)):\n",
    "    for j in corticoMeds:\n",
    "        if j in db.loc[i, 'Corticosteroids']:\n",
    "            db.loc[i, 'Cortico'+j] = 1"
   ]
  },
  {
   "cell_type": "code",
   "execution_count": 634,
   "metadata": {},
   "outputs": [
    {
     "data": {
      "text/html": [
       "<div>\n",
       "<style scoped>\n",
       "    .dataframe tbody tr th:only-of-type {\n",
       "        vertical-align: middle;\n",
       "    }\n",
       "\n",
       "    .dataframe tbody tr th {\n",
       "        vertical-align: top;\n",
       "    }\n",
       "\n",
       "    .dataframe thead th {\n",
       "        text-align: right;\n",
       "    }\n",
       "</style>\n",
       "<table border=\"1\" class=\"dataframe\">\n",
       "  <thead>\n",
       "    <tr style=\"text-align: right;\">\n",
       "      <th></th>\n",
       "      <th>Corticosteroids</th>\n",
       "      <th>CorticoHYDROCORTISONE</th>\n",
       "      <th>CorticoNO_MEDICATION</th>\n",
       "      <th>CorticoANTIBIOTICS</th>\n",
       "      <th>CorticoMETHYLPREDNISOLONE</th>\n",
       "    </tr>\n",
       "  </thead>\n",
       "  <tbody>\n",
       "    <tr>\n",
       "      <th>4670</th>\n",
       "      <td>NO_MEDICATION</td>\n",
       "      <td>0</td>\n",
       "      <td>1</td>\n",
       "      <td>0</td>\n",
       "      <td>0</td>\n",
       "    </tr>\n",
       "    <tr>\n",
       "      <th>7097</th>\n",
       "      <td>NO_MEDICATION</td>\n",
       "      <td>0</td>\n",
       "      <td>1</td>\n",
       "      <td>0</td>\n",
       "      <td>0</td>\n",
       "    </tr>\n",
       "    <tr>\n",
       "      <th>3055</th>\n",
       "      <td>NO_MEDICATION</td>\n",
       "      <td>0</td>\n",
       "      <td>1</td>\n",
       "      <td>0</td>\n",
       "      <td>0</td>\n",
       "    </tr>\n",
       "    <tr>\n",
       "      <th>652</th>\n",
       "      <td>NO_MEDICATION</td>\n",
       "      <td>0</td>\n",
       "      <td>1</td>\n",
       "      <td>0</td>\n",
       "      <td>0</td>\n",
       "    </tr>\n",
       "    <tr>\n",
       "      <th>2679</th>\n",
       "      <td>NO_MEDICATION</td>\n",
       "      <td>0</td>\n",
       "      <td>1</td>\n",
       "      <td>0</td>\n",
       "      <td>0</td>\n",
       "    </tr>\n",
       "    <tr>\n",
       "      <th>5256</th>\n",
       "      <td>METHYLPREDNISOLONE</td>\n",
       "      <td>0</td>\n",
       "      <td>0</td>\n",
       "      <td>0</td>\n",
       "      <td>1</td>\n",
       "    </tr>\n",
       "    <tr>\n",
       "      <th>7198</th>\n",
       "      <td>NO_MEDICATION</td>\n",
       "      <td>0</td>\n",
       "      <td>1</td>\n",
       "      <td>0</td>\n",
       "      <td>0</td>\n",
       "    </tr>\n",
       "    <tr>\n",
       "      <th>9690</th>\n",
       "      <td>NO_MEDICATION</td>\n",
       "      <td>0</td>\n",
       "      <td>1</td>\n",
       "      <td>0</td>\n",
       "      <td>0</td>\n",
       "    </tr>\n",
       "    <tr>\n",
       "      <th>7579</th>\n",
       "      <td>NO_MEDICATION</td>\n",
       "      <td>0</td>\n",
       "      <td>1</td>\n",
       "      <td>0</td>\n",
       "      <td>0</td>\n",
       "    </tr>\n",
       "    <tr>\n",
       "      <th>387</th>\n",
       "      <td>NO_MEDICATION</td>\n",
       "      <td>0</td>\n",
       "      <td>1</td>\n",
       "      <td>0</td>\n",
       "      <td>0</td>\n",
       "    </tr>\n",
       "    <tr>\n",
       "      <th>5908</th>\n",
       "      <td>HYDROCORTISONE AND ANTIBIOTICS / PREDNISONE</td>\n",
       "      <td>1</td>\n",
       "      <td>0</td>\n",
       "      <td>1</td>\n",
       "      <td>0</td>\n",
       "    </tr>\n",
       "    <tr>\n",
       "      <th>2086</th>\n",
       "      <td>NO_MEDICATION</td>\n",
       "      <td>0</td>\n",
       "      <td>1</td>\n",
       "      <td>0</td>\n",
       "      <td>0</td>\n",
       "    </tr>\n",
       "    <tr>\n",
       "      <th>9424</th>\n",
       "      <td>NO_MEDICATION</td>\n",
       "      <td>0</td>\n",
       "      <td>1</td>\n",
       "      <td>0</td>\n",
       "      <td>0</td>\n",
       "    </tr>\n",
       "    <tr>\n",
       "      <th>6722</th>\n",
       "      <td>HYDROCORTISONE</td>\n",
       "      <td>1</td>\n",
       "      <td>0</td>\n",
       "      <td>0</td>\n",
       "      <td>0</td>\n",
       "    </tr>\n",
       "    <tr>\n",
       "      <th>7009</th>\n",
       "      <td>NO_MEDICATION</td>\n",
       "      <td>0</td>\n",
       "      <td>1</td>\n",
       "      <td>0</td>\n",
       "      <td>0</td>\n",
       "    </tr>\n",
       "  </tbody>\n",
       "</table>\n",
       "</div>"
      ],
      "text/plain": [
       "                                   Corticosteroids  CorticoHYDROCORTISONE  \\\n",
       "4670                                 NO_MEDICATION                      0   \n",
       "7097                                 NO_MEDICATION                      0   \n",
       "3055                                 NO_MEDICATION                      0   \n",
       "652                                  NO_MEDICATION                      0   \n",
       "2679                                 NO_MEDICATION                      0   \n",
       "5256                            METHYLPREDNISOLONE                      0   \n",
       "7198                                 NO_MEDICATION                      0   \n",
       "9690                                 NO_MEDICATION                      0   \n",
       "7579                                 NO_MEDICATION                      0   \n",
       "387                                  NO_MEDICATION                      0   \n",
       "5908   HYDROCORTISONE AND ANTIBIOTICS / PREDNISONE                      1   \n",
       "2086                                 NO_MEDICATION                      0   \n",
       "9424                                 NO_MEDICATION                      0   \n",
       "6722                                HYDROCORTISONE                      1   \n",
       "7009                                 NO_MEDICATION                      0   \n",
       "\n",
       "      CorticoNO_MEDICATION  CorticoANTIBIOTICS  CorticoMETHYLPREDNISOLONE  \n",
       "4670                     1                   0                          0  \n",
       "7097                     1                   0                          0  \n",
       "3055                     1                   0                          0  \n",
       "652                      1                   0                          0  \n",
       "2679                     1                   0                          0  \n",
       "5256                     0                   0                          1  \n",
       "7198                     1                   0                          0  \n",
       "9690                     1                   0                          0  \n",
       "7579                     1                   0                          0  \n",
       "387                      1                   0                          0  \n",
       "5908                     0                   1                          0  \n",
       "2086                     1                   0                          0  \n",
       "9424                     1                   0                          0  \n",
       "6722                     0                   0                          0  \n",
       "7009                     1                   0                          0  "
      ]
     },
     "execution_count": 634,
     "metadata": {},
     "output_type": "execute_result"
    }
   ],
   "source": [
    "# Here's what some of the new variables look like.\n",
    "columns = ['Corticosteroids', 'CorticoHYDROCORTISONE', 'CorticoNO_MEDICATION', 'CorticoANTIBIOTICS', 'CorticoMETHYLPREDNISOLONE'] \n",
    "db[columns].sample(15)"
   ]
  },
  {
   "cell_type": "code",
   "execution_count": 635,
   "metadata": {},
   "outputs": [],
   "source": [
    "# Since there are a lot of hypertension meds (not shown here), let's just use a binary variable for now, and call it UsingHyperMed.\n",
    "db.loc[db['Hypertension_Medications'] == 'No_Medication', 'UsingHyperMed'] = 0\n",
    "db.loc[db['Hypertension_Medications'] != 'No_Medication', 'UsingHyperMed'] = 1\n",
    "db['UsingHyperMed'] = db['UsingHyperMed'].astype(int)"
   ]
  },
  {
   "cell_type": "code",
   "execution_count": 636,
   "metadata": {},
   "outputs": [
    {
     "data": {
      "text/plain": [
       "[('Age_at_Exam', 0),\n",
       " ('sBP', 1),\n",
       " ('sBP_Date', 2),\n",
       " ('BMI', 3),\n",
       " ('BMI_Date', 4),\n",
       " ('LDL', 5),\n",
       " ('LDL_Date', 6),\n",
       " ('HDL', 7),\n",
       " ('HDL_Date', 8),\n",
       " ('A1c', 9),\n",
       " ('A1c_Date', 10),\n",
       " ('TG', 11),\n",
       " ('TG_Date', 12),\n",
       " ('FBS', 13),\n",
       " ('FBS_Date', 14),\n",
       " ('FBS>DM', 15),\n",
       " ('Diabetes', 16),\n",
       " ('DM_OnsetDate', 17),\n",
       " ('Depression', 18),\n",
       " ('Depression_OnsetDate', 19),\n",
       " ('HTN', 20),\n",
       " ('HTN_OnsetDate', 21),\n",
       " ('OA', 22),\n",
       " ('OA_OnsetDate', 23),\n",
       " ('COPD', 24),\n",
       " ('COPD_Date', 25),\n",
       " ('Hypertension_Medications', 26),\n",
       " ('Hypertension_Medications_First_Instance', 27),\n",
       " ('Corticosteroids', 28),\n",
       " ('Corticosteroids_first_instance', 29),\n",
       " ('A1C_BEF_DM', 30),\n",
       " ('FBS_BEF_DM', 31),\n",
       " ('Patient_ID', 32),\n",
       " ('DM_Onset_Revised', 33),\n",
       " ('DM_Onset_Revised_1YrPrior', 34),\n",
       " ('Sex_Male', 35),\n",
       " ('CorticoDEXAMETHASONE', 36),\n",
       " ('CorticoMETHYLPREDNISOLONE', 37),\n",
       " ('CorticoANTIINFECTIVES', 38),\n",
       " ('CorticoHYDROCORTISONE', 39),\n",
       " ('CorticoPREDNISONE', 40),\n",
       " ('CorticoCOMBINATIONS', 41),\n",
       " ('CorticoANTIBIOTICS', 42),\n",
       " ('CorticoPREDNISOLONE', 43),\n",
       " ('CorticoNO_MEDICATION', 44),\n",
       " ('CorticoCORTISONE', 45),\n",
       " ('UsingHyperMed', 46)]"
      ]
     },
     "execution_count": 636,
     "metadata": {},
     "output_type": "execute_result"
    }
   ],
   "source": [
    "# Next, do a check to ensure that all records have at least one \"1\" value among the new 'CorticoMedication' columns (sanity check).\n",
    "colNum = list(range(len(db.columns)))\n",
    "list(zip(db.columns, colNum))"
   ]
  },
  {
   "cell_type": "code",
   "execution_count": 637,
   "metadata": {},
   "outputs": [
    {
     "data": {
      "text/plain": [
       "0"
      ]
     },
     "execution_count": 637,
     "metadata": {},
     "output_type": "execute_result"
    }
   ],
   "source": [
    "def CheckOnes(series):\n",
    "    if 1 in series:\n",
    "        return True\n",
    "    else:\n",
    "        return False\n",
    "# Apply the CheckOnes function to each row of the new medication columns.    \n",
    "test = db.iloc[:,37:47].apply(CheckOnes, raw = True, axis = 1)\n",
    "# If there is even a single entry that doesn't have at least a single \"1\" among the new medication columns, then the test array will contain a False value.\n",
    "# Let's check!\n",
    "sum(test[test==False])\n",
    "# Good, no False values!"
   ]
  },
  {
   "cell_type": "code",
   "execution_count": 638,
   "metadata": {},
   "outputs": [
    {
     "data": {
      "text/plain": [
       "287"
      ]
     },
     "execution_count": 638,
     "metadata": {},
     "output_type": "execute_result"
    }
   ],
   "source": [
    "# Next, make sure that sex is consistent within each patient across all records for that patient.\n",
    "# This is a good sanity check, and also important when we group the data by patient id.\n",
    "db.reset_index(inplace=True, drop = True)\n",
    "# Create a series object whose index is the patient ID, and whose value is \"True\" if the Sex_Male column was the same value for all records involving that patient.\n",
    "sexConsistency = db.groupby(['Patient_ID'])['Sex_Male'].nunique()==1\n",
    "len(sexConsistency[sexConsistency==False])\n",
    "# 287 patients that have inconsistent sex. Let's remove these patients."
   ]
  },
  {
   "cell_type": "code",
   "execution_count": 639,
   "metadata": {},
   "outputs": [
    {
     "data": {
      "text/plain": [
       "707"
      ]
     },
     "execution_count": 639,
     "metadata": {},
     "output_type": "execute_result"
    }
   ],
   "source": [
    "inconsistentSex = sexConsistency[sexConsistency==False]\n",
    "boolMask = db['Patient_ID'].isin(inconsistentSex.index)\n",
    "indicesToRemove = db.index[boolMask]\n",
    "len(indicesToRemove)\n",
    "# We will be removing 707 records (707 records across 287 patients)."
   ]
  },
  {
   "cell_type": "code",
   "execution_count": 640,
   "metadata": {},
   "outputs": [],
   "source": [
    "# Remove them!\n",
    "db.drop(indicesToRemove, inplace=True)\n",
    "db.reset_index(inplace=True, drop = True)"
   ]
  },
  {
   "cell_type": "code",
   "execution_count": 641,
   "metadata": {},
   "outputs": [],
   "source": [
    "# Turn the above procedure into a function that automatically removes patients with inconsistent records for any desired variable.\n",
    "# In addition to removing these records, it will return a value indicating how many records were deleted.\n",
    "def RemoveInconsistencies(df, groupingVar, consistencyVar):\n",
    "    varConsistency = df.groupby([groupingVar])[consistencyVar].nunique()==1\n",
    "    inconsistents = varConsistency[varConsistency==False]\n",
    "    boolMask = df[groupingVar].isin(inconsistents.index)\n",
    "    indicesToRemove = df.index[boolMask]\n",
    "    df.drop(indicesToRemove, inplace=True)\n",
    "    db.reset_index(inplace=True, drop = True)\n",
    "    return (len(indicesToRemove))"
   ]
  },
  {
   "cell_type": "code",
   "execution_count": 642,
   "metadata": {},
   "outputs": [
    {
     "data": {
      "text/plain": [
       "286"
      ]
     },
     "execution_count": 642,
     "metadata": {},
     "output_type": "execute_result"
    }
   ],
   "source": [
    "# let's remove patients who have inconsistent records in the Diabetes column.\n",
    "RemoveInconsistencies(db, 'Patient_ID', 'Diabetes') "
   ]
  },
  {
   "cell_type": "code",
   "execution_count": 643,
   "metadata": {},
   "outputs": [
    {
     "data": {
      "text/plain": [
       "[('Age_at_Exam', 0),\n",
       " ('sBP', 1),\n",
       " ('sBP_Date', 2),\n",
       " ('BMI', 3),\n",
       " ('BMI_Date', 4),\n",
       " ('LDL', 5),\n",
       " ('LDL_Date', 6),\n",
       " ('HDL', 7),\n",
       " ('HDL_Date', 8),\n",
       " ('A1c', 9),\n",
       " ('A1c_Date', 10),\n",
       " ('TG', 11),\n",
       " ('TG_Date', 12),\n",
       " ('FBS', 13),\n",
       " ('FBS_Date', 14),\n",
       " ('FBS>DM', 15),\n",
       " ('Diabetes', 16),\n",
       " ('DM_OnsetDate', 17),\n",
       " ('Depression', 18),\n",
       " ('Depression_OnsetDate', 19),\n",
       " ('HTN', 20),\n",
       " ('HTN_OnsetDate', 21),\n",
       " ('OA', 22),\n",
       " ('OA_OnsetDate', 23),\n",
       " ('COPD', 24),\n",
       " ('COPD_Date', 25),\n",
       " ('Hypertension_Medications', 26),\n",
       " ('Hypertension_Medications_First_Instance', 27),\n",
       " ('Corticosteroids', 28),\n",
       " ('Corticosteroids_first_instance', 29),\n",
       " ('A1C_BEF_DM', 30),\n",
       " ('FBS_BEF_DM', 31),\n",
       " ('Patient_ID', 32),\n",
       " ('DM_Onset_Revised', 33),\n",
       " ('DM_Onset_Revised_1YrPrior', 34),\n",
       " ('Sex_Male', 35),\n",
       " ('CorticoDEXAMETHASONE', 36),\n",
       " ('CorticoMETHYLPREDNISOLONE', 37),\n",
       " ('CorticoANTIINFECTIVES', 38),\n",
       " ('CorticoHYDROCORTISONE', 39),\n",
       " ('CorticoPREDNISONE', 40),\n",
       " ('CorticoCOMBINATIONS', 41),\n",
       " ('CorticoANTIBIOTICS', 42),\n",
       " ('CorticoPREDNISOLONE', 43),\n",
       " ('CorticoNO_MEDICATION', 44),\n",
       " ('CorticoCORTISONE', 45),\n",
       " ('UsingHyperMed', 46)]"
      ]
     },
     "execution_count": 643,
     "metadata": {},
     "output_type": "execute_result"
    }
   ],
   "source": [
    "colNum = list(range(len(db.columns)))\n",
    "list(zip(db.columns, colNum))"
   ]
  },
  {
   "cell_type": "code",
   "execution_count": 644,
   "metadata": {},
   "outputs": [],
   "source": [
    "# Now do the same for medications (this will effectively filter out patients who changed cortico or hyper medications at some point)\n",
    "for i in db.columns[36:47]:\n",
    "    RemoveInconsistencies(db, 'Patient_ID', i)"
   ]
  },
  {
   "cell_type": "code",
   "execution_count": 645,
   "metadata": {},
   "outputs": [
    {
     "data": {
      "text/plain": [
       "8683"
      ]
     },
     "execution_count": 645,
     "metadata": {},
     "output_type": "execute_result"
    }
   ],
   "source": [
    "# Check how many records are remaining\n",
    "len(db)"
   ]
  },
  {
   "cell_type": "code",
   "execution_count": 646,
   "metadata": {},
   "outputs": [
    {
     "data": {
      "text/plain": [
       "0.5130715190602326"
      ]
     },
     "execution_count": 646,
     "metadata": {},
     "output_type": "execute_result"
    }
   ],
   "source": [
    "# Check class balance\n",
    "sum(db['Diabetes']) / len(db)\n",
    "# Good, still balanced!"
   ]
  },
  {
   "cell_type": "code",
   "execution_count": 647,
   "metadata": {},
   "outputs": [
    {
     "data": {
      "text/plain": [
       "[('Age_at_Exam', 0),\n",
       " ('sBP', 1),\n",
       " ('sBP_Date', 2),\n",
       " ('BMI', 3),\n",
       " ('BMI_Date', 4),\n",
       " ('LDL', 5),\n",
       " ('LDL_Date', 6),\n",
       " ('HDL', 7),\n",
       " ('HDL_Date', 8),\n",
       " ('A1c', 9),\n",
       " ('A1c_Date', 10),\n",
       " ('TG', 11),\n",
       " ('TG_Date', 12),\n",
       " ('FBS', 13),\n",
       " ('FBS_Date', 14),\n",
       " ('FBS>DM', 15),\n",
       " ('Diabetes', 16),\n",
       " ('DM_OnsetDate', 17),\n",
       " ('Depression', 18),\n",
       " ('Depression_OnsetDate', 19),\n",
       " ('HTN', 20),\n",
       " ('HTN_OnsetDate', 21),\n",
       " ('OA', 22),\n",
       " ('OA_OnsetDate', 23),\n",
       " ('COPD', 24),\n",
       " ('COPD_Date', 25),\n",
       " ('Hypertension_Medications', 26),\n",
       " ('Hypertension_Medications_First_Instance', 27),\n",
       " ('Corticosteroids', 28),\n",
       " ('Corticosteroids_first_instance', 29),\n",
       " ('A1C_BEF_DM', 30),\n",
       " ('FBS_BEF_DM', 31),\n",
       " ('Patient_ID', 32),\n",
       " ('DM_Onset_Revised', 33),\n",
       " ('DM_Onset_Revised_1YrPrior', 34),\n",
       " ('Sex_Male', 35),\n",
       " ('CorticoDEXAMETHASONE', 36),\n",
       " ('CorticoMETHYLPREDNISOLONE', 37),\n",
       " ('CorticoANTIINFECTIVES', 38),\n",
       " ('CorticoHYDROCORTISONE', 39),\n",
       " ('CorticoPREDNISONE', 40),\n",
       " ('CorticoCOMBINATIONS', 41),\n",
       " ('CorticoANTIBIOTICS', 42),\n",
       " ('CorticoPREDNISOLONE', 43),\n",
       " ('CorticoNO_MEDICATION', 44),\n",
       " ('CorticoCORTISONE', 45),\n",
       " ('UsingHyperMed', 46)]"
      ]
     },
     "execution_count": 647,
     "metadata": {},
     "output_type": "execute_result"
    }
   ],
   "source": [
    "# Remove variables we're not interested in.\n",
    "colNum = list(range(len(db.columns)))\n",
    "list(zip(db.columns, colNum))"
   ]
  },
  {
   "cell_type": "code",
   "execution_count": 648,
   "metadata": {},
   "outputs": [],
   "source": [
    "db.drop(db.columns[[2,4,6,8,10,12,14,15,17,19,21,23,25,26,27,28,29,30,31,33,34]], axis=1, inplace=True)"
   ]
  },
  {
   "cell_type": "code",
   "execution_count": 649,
   "metadata": {},
   "outputs": [
    {
     "data": {
      "text/plain": [
       "[('Age_at_Exam', 0),\n",
       " ('sBP', 1),\n",
       " ('BMI', 2),\n",
       " ('LDL', 3),\n",
       " ('HDL', 4),\n",
       " ('A1c', 5),\n",
       " ('TG', 6),\n",
       " ('FBS', 7),\n",
       " ('Diabetes', 8),\n",
       " ('Depression', 9),\n",
       " ('HTN', 10),\n",
       " ('OA', 11),\n",
       " ('COPD', 12),\n",
       " ('Patient_ID', 13),\n",
       " ('Sex_Male', 14),\n",
       " ('CorticoDEXAMETHASONE', 15),\n",
       " ('CorticoMETHYLPREDNISOLONE', 16),\n",
       " ('CorticoANTIINFECTIVES', 17),\n",
       " ('CorticoHYDROCORTISONE', 18),\n",
       " ('CorticoPREDNISONE', 19),\n",
       " ('CorticoCOMBINATIONS', 20),\n",
       " ('CorticoANTIBIOTICS', 21),\n",
       " ('CorticoPREDNISOLONE', 22),\n",
       " ('CorticoNO_MEDICATION', 23),\n",
       " ('CorticoCORTISONE', 24),\n",
       " ('UsingHyperMed', 25)]"
      ]
     },
     "execution_count": 649,
     "metadata": {},
     "output_type": "execute_result"
    }
   ],
   "source": [
    "# Display remaining columns.\n",
    "colNum = list(range(len(db.columns)))\n",
    "list(zip(db.columns, colNum))"
   ]
  },
  {
   "cell_type": "code",
   "execution_count": 650,
   "metadata": {},
   "outputs": [],
   "source": [
    "# Now let's prepare to group the data by patient ID.\n",
    "# For depression, hypertension, osteoarthristis, and COPD, let's assign each patient a value of 1 if they were diagnosed at any checkup.\n",
    "# For the other variables, we'll use the mean of the values across checkups.\n",
    "groupingFunctions = {}\n",
    "keys = db.columns\n",
    "for i in keys:\n",
    "    if i == 'Patient_ID':\n",
    "        continue\n",
    "    if i in ['Depression', 'HTN', 'OA', 'COPD']:\n",
    "        groupingFunctions[i] = 'max'\n",
    "    else:\n",
    "        groupingFunctions[i] = 'mean'"
   ]
  },
  {
   "cell_type": "code",
   "execution_count": 651,
   "metadata": {},
   "outputs": [
    {
     "data": {
      "text/html": [
       "<div>\n",
       "<style scoped>\n",
       "    .dataframe tbody tr th:only-of-type {\n",
       "        vertical-align: middle;\n",
       "    }\n",
       "\n",
       "    .dataframe tbody tr th {\n",
       "        vertical-align: top;\n",
       "    }\n",
       "\n",
       "    .dataframe thead th {\n",
       "        text-align: right;\n",
       "    }\n",
       "</style>\n",
       "<table border=\"1\" class=\"dataframe\">\n",
       "  <thead>\n",
       "    <tr style=\"text-align: right;\">\n",
       "      <th></th>\n",
       "      <th>Age_at_Exam</th>\n",
       "      <th>sBP</th>\n",
       "      <th>BMI</th>\n",
       "      <th>LDL</th>\n",
       "      <th>HDL</th>\n",
       "      <th>A1c</th>\n",
       "      <th>TG</th>\n",
       "      <th>FBS</th>\n",
       "      <th>Diabetes</th>\n",
       "      <th>Depression</th>\n",
       "      <th>...</th>\n",
       "      <th>CorticoMETHYLPREDNISOLONE</th>\n",
       "      <th>CorticoANTIINFECTIVES</th>\n",
       "      <th>CorticoHYDROCORTISONE</th>\n",
       "      <th>CorticoPREDNISONE</th>\n",
       "      <th>CorticoCOMBINATIONS</th>\n",
       "      <th>CorticoANTIBIOTICS</th>\n",
       "      <th>CorticoPREDNISOLONE</th>\n",
       "      <th>CorticoNO_MEDICATION</th>\n",
       "      <th>CorticoCORTISONE</th>\n",
       "      <th>UsingHyperMed</th>\n",
       "    </tr>\n",
       "    <tr>\n",
       "      <th>Patient_ID</th>\n",
       "      <th></th>\n",
       "      <th></th>\n",
       "      <th></th>\n",
       "      <th></th>\n",
       "      <th></th>\n",
       "      <th></th>\n",
       "      <th></th>\n",
       "      <th></th>\n",
       "      <th></th>\n",
       "      <th></th>\n",
       "      <th></th>\n",
       "      <th></th>\n",
       "      <th></th>\n",
       "      <th></th>\n",
       "      <th></th>\n",
       "      <th></th>\n",
       "      <th></th>\n",
       "      <th></th>\n",
       "      <th></th>\n",
       "      <th></th>\n",
       "      <th></th>\n",
       "    </tr>\n",
       "  </thead>\n",
       "  <tbody>\n",
       "  </tbody>\n",
       "</table>\n",
       "<p>0 rows × 25 columns</p>\n",
       "</div>"
      ],
      "text/plain": [
       "Empty DataFrame\n",
       "Columns: [Age_at_Exam, sBP, BMI, LDL, HDL, A1c, TG, FBS, Diabetes, Depression, HTN, OA, COPD, Sex_Male, CorticoDEXAMETHASONE, CorticoMETHYLPREDNISOLONE, CorticoANTIINFECTIVES, CorticoHYDROCORTISONE, CorticoPREDNISONE, CorticoCOMBINATIONS, CorticoANTIBIOTICS, CorticoPREDNISOLONE, CorticoNO_MEDICATION, CorticoCORTISONE, UsingHyperMed]\n",
       "Index: []\n",
       "\n",
       "[0 rows x 25 columns]"
      ]
     },
     "execution_count": 651,
     "metadata": {},
     "output_type": "execute_result"
    }
   ],
   "source": [
    "# Group the data using these functions.\n",
    "dbGrouped = db.groupby('Patient_ID').agg(groupingFunctions)\n",
    "dbGrouped.head(0)"
   ]
  }
 ],
 "metadata": {
  "kernelspec": {
   "display_name": "Python 3",
   "language": "python",
   "name": "python3"
  },
  "language_info": {
   "codemirror_mode": {
    "name": "ipython",
    "version": 3
   },
   "file_extension": ".py",
   "mimetype": "text/x-python",
   "name": "python",
   "nbconvert_exporter": "python",
   "pygments_lexer": "ipython3",
   "version": "3.7.3"
  }
 },
 "nbformat": 4,
 "nbformat_minor": 2
}
